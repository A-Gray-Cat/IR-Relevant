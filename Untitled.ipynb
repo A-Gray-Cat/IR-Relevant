{
 "cells": [
  {
   "cell_type": "code",
   "execution_count": 1,
   "metadata": {},
   "outputs": [
    {
     "ename": "ModuleNotFoundError",
     "evalue": "No module named 'netaddr'",
     "output_type": "error",
     "traceback": [
      "\u001b[0;31m---------------------------------------------------------------------------\u001b[0m",
      "\u001b[0;31mModuleNotFoundError\u001b[0m                       Traceback (most recent call last)",
      "\u001b[0;32m<ipython-input-1-c76ab678e7bd>\u001b[0m in \u001b[0;36m<module>\u001b[0;34m()\u001b[0m\n\u001b[1;32m      5\u001b[0m \u001b[0;32mfrom\u001b[0m \u001b[0mbotocore\u001b[0m\u001b[0;34m.\u001b[0m\u001b[0mexceptions\u001b[0m \u001b[0;32mimport\u001b[0m \u001b[0mClientError\u001b[0m\u001b[0;34m\u001b[0m\u001b[0m\n\u001b[1;32m      6\u001b[0m \u001b[0;32mimport\u001b[0m \u001b[0mipaddress\u001b[0m\u001b[0;34m\u001b[0m\u001b[0m\n\u001b[0;32m----> 7\u001b[0;31m \u001b[0;32mimport\u001b[0m \u001b[0mnetaddr\u001b[0m\u001b[0;34m\u001b[0m\u001b[0m\n\u001b[0m",
      "\u001b[0;31mModuleNotFoundError\u001b[0m: No module named 'netaddr'"
     ]
    }
   ],
   "source": [
    "import pandas as pd\n",
    "import json\n",
    "from pandas.io.json import json_normalize\n",
    "import boto3\n",
    "from botocore.exceptions import ClientError\n",
    "import ipaddress\n",
    "import netaddr"
   ]
  },
  {
   "cell_type": "code",
   "execution_count": 63,
   "metadata": {},
   "outputs": [],
   "source": [
    "ec2 = boto3.client('ec2', region_name='us-east-1')\n",
    "\n",
    "try:\n",
    "    response = ec2.describe_security_groups()\n",
    "except ClientError as e:\n",
    "    print(e)"
   ]
  },
  {
   "cell_type": "code",
   "execution_count": 64,
   "metadata": {},
   "outputs": [],
   "source": [
    "security_groups = response['SecurityGroups']"
   ]
  },
  {
   "cell_type": "code",
   "execution_count": 65,
   "metadata": {},
   "outputs": [],
   "source": [
    "sg5 = security_groups[5]"
   ]
  },
  {
   "cell_type": "code",
   "execution_count": 136,
   "metadata": {},
   "outputs": [],
   "source": [
    "INGRESS = \"IpPermissions\"\n",
    "EGRESS = \"IpPermissionsEgress\"\n",
    "FROM_PORT = \"FromPort\"\n",
    "TO_PORT = \"ToPort\"\n",
    "IP_PROTOCOL = \"IpProtocol\"\n",
    "IP_Ranges = \"IpRanges\"\n",
    "IPV6_Ranges = \"Ipv6Ranges\"\n",
    "PREFIX_LIST_IDS = \"PrefixListIds\"\n",
    "USER_ID_GROUP_PAIRS = \"UserIdGroupPairs\"\n",
    "GROUP_ID = \"GroupId\"\n",
    "GROUP_NAME = \"GroupName\"\n",
    "CIDR_IP = \"CidrIp\"\n",
    "VPC_ID = \"VpcId\""
   ]
  },
  {
   "cell_type": "code",
   "execution_count": 148,
   "metadata": {},
   "outputs": [],
   "source": [
    "def flat_sg(sg_list):\n",
    "    __sg_list = sg_list\n",
    "    rule_list = []\n",
    "    #group_name = \"\"\n",
    "    for each_sg_list in sg_list:\n",
    "        #group_id = each_ingress_rule[GROUP_ID]\n",
    "        #if len(each_ingress_rule[GROUP_NAME]) > 0:\n",
    "        #    group_name = each_ingress_rule[GROUP_NAME]\n",
    "        ip_protocol = each_sg_list[IP_PROTOCOL]\n",
    "        ip_ranges_list = each_sg_list[IP_Ranges]\n",
    "        ipv6_ranges_list = each_sg_list[IPV6_Ranges]\n",
    "        user_id_group_pairs_list = each_sg_list[USER_ID_GROUP_PAIRS]\n",
    "        from_port = each_sg_list[FROM_PORT]\n",
    "        to_port = each_sg_list[TO_PORT]\n",
    "        #ingress_flat[\"Group ID\"] = group_id\n",
    "        #if group_name != \"\":\n",
    "        #    ingress_flat[\"Group Name\"] = group_name\n",
    "        for each_ip in ip_ranges_list:\n",
    "            if (to_port - from_port) > 0:\n",
    "                rule_list.append(each_ip[CIDR_IP] + \":\" + str(from_port) + \"-\" + str(to_port))\n",
    "            else:\n",
    "                rule_list.append(each_ip[CIDR_IP] + \":\" + str(from_port))\n",
    "        for each_sg_pair in user_id_group_pairs_list:\n",
    "            if (to_port - from_port) > 0:\n",
    "                rule_list.append(each_sg_pa                        ir[GROUP_ID] + \":\" + str(from_port) + \"-\" + str(to_port))\n",
    "            else:\n",
    "                rule_list.append(each_sg_pair[GROUP_ID] + \":\" + str(from_port))\n",
    "    return rule_list"
   ]
  },
  {
   "cell_type": "code",
   "execution_count": 174,
   "metadata": {},
   "outputs": [],
   "source": [
    "def is_private(cidr_block, ip_v                                                                               ersion=\"ipv4\"):\n",
    "    if ip_version == \"ipv4\":         \n",
    "        ip_network = ipaddress.IPv4Network(cidr_block)\n",
    "                           elif ip_version == \"ipv6\":\n",
    "        ip_network = ipaddress.IPv6Network(cidr_block)\n",
    "    else:\n",
    "        raise Exception(\"IP version is either v4 or v6.\")\n",
    "    return ip_network.is_private"
   ]
  },
  {
   "cell_type": "code",
   "execution_count": 175,
   "metadata": {},
   "outputs": [],
   "source": [
    "def is_public(cidr_block, ip_version=\"ipv4\"):\n",
    "    if is_private(cidr_block, ip_version):\n",
    "        return False    \n",
    "    return True"
   ]
  },
  {
   "cell_type": "code",
   "execution_count": 176,
   "metadata": {},
   "outputs": [],
   "source": [
    "def is_within_vpc(cidr_block, vpc_cidr_block):\n",
    "    ip_network = ipaddress.IPv4Network(cidr_block)\n",
    "    vpc_network = ipaddress.IPv4Network(vpc_cidr_block)\n",
    "    if ip_network in vpc_network:\n",
    "        return True\n",
    "    return False                                     "
   ]
  },
  {
   "cell_type": "code",
   "execution_count": 165,
   "metadata": {},
   "outputs": [],
   "source": [
    "def is_target_accepts_traffics(egress_rule, target_ingress_rule):\n",
    "    if is_ip(egress_rule):\n",
    "        "
   ]
  },
  {
   "cell_type": "code",
   "execution_count": 181,
   "metadata": {},
   "outputs": [
    {
     "data": {
      "text/plain": [
       "False"
      ]
     },
     "execution_count": 181,
     "metadata": {},
     "output_type": "execute_result"
    }
   ],
   "source": [
    "ipaddress.IPv4Network(\"192.168.1.1\") in ipaddress.IPv4Network(\"192.168.0.0/16\")"
   ]
  },
  {
   "cell_type": "code",
   "execution_count": null,
   "metadata": {},
   "outputs": [],
   "source": [
    "ipaddress."
   ]
  }
 ],
 "metadata": {
  "kernelspec": {
   "display_name": "Python 3",
   "language": "python",
   "name": "python3"
  },
  "language_info": {
   "codemirror_mode": {
    "name": "ipython",
    "version": 3
   },
   "file_extension": ".py",
   "mimetype": "text/x-python",
   "name": "python",
   "nbconvert_exporter": "python",
   "pygments_lexer": "ipython3",
   "version": "3.6.3"
  }
 },
 "nbformat": 4,
 "nbformat_minor": 2
}
